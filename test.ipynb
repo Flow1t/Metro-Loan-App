{
 "cells": [
  {
   "cell_type": "code",
   "execution_count": null,
   "id": "f26bf5d5",
   "metadata": {},
   "outputs": [],
   "source": [
    "def mutasi_organizer(file1):\n",
    "    df = pd.read_excel(file1, skiprows=6, header=None)  # no header, read as raw data\n",
    "\n",
    "    # Keep only necessary columns: col 0 (Tanggal), col 1 (Keterangan), col 3 (Jumlah), col 4 (Saldo)\n",
    "    df = df[[0, 1, 3, 4]]\n",
    "    df.columns = ['Tanggal Transaksi', 'Keterangan', 'Jumlah', 'Saldo']\n",
    "\n",
    "    # Convert 'Jumlah' to string\n",
    "    df['Jumlah'] = df['Jumlah'].astype(str)\n",
    "\n",
    "    # Extract numeric value and transaction type\n",
    "    df['Nominal'] = df['Jumlah'].str.replace(',', '').str.extract(r'([\\d.]+)').astype(float)\n",
    "    df['Jenis Transaksi'] = df['Jumlah'].str[-2:]\n",
    "\n",
    "    # Create Debit and Kredit columns based on 'Jenis Transaksi'\n",
    "    df['Debit'] = np.where(df['Jenis Transaksi'] == 'DB', df['Nominal'], 0)\n",
    "    df['Kredit'] = np.where(df['Jenis Transaksi'] == 'CR', df['Nominal'], 0)\n",
    "\n",
    "    # Drop 'Jumlah', 'Nominal', 'Jenis Transaksi'\n",
    "    df = df.drop(columns=['Jumlah', 'Nominal', 'Jenis Transaksi'])\n",
    "\n",
    "    # Final column order\n",
    "    new_columns_order = ['Tanggal Transaksi', 'Keterangan', 'Debit', 'Kredit', 'Saldo']\n",
    "    df = df.reindex(columns=new_columns_order)\n",
    "\n",
    "    return df\n"
   ]
  },
  {
   "cell_type": "code",
   "execution_count": 1,
   "id": "334a60df",
   "metadata": {},
   "outputs": [],
   "source": [
    "import pandas as pd\n",
    "import numpy as np"
   ]
  },
  {
   "cell_type": "code",
   "execution_count": 4,
   "id": "e1edb5cb",
   "metadata": {},
   "outputs": [
    {
     "name": "stderr",
     "output_type": "stream",
     "text": [
      "<>:1: SyntaxWarning: invalid escape sequence '\\M'\n",
      "<>:1: SyntaxWarning: invalid escape sequence '\\M'\n",
      "C:\\Users\\bmpri\\AppData\\Local\\Temp\\ipykernel_12300\\834218901.py:1: SyntaxWarning: invalid escape sequence '\\M'\n",
      "  df = pd.read_csv(\"D:\\Metro-Loan-App\\CorpAcctTrxn202553101438290.csv\", header=None)  # no header, read as raw data\n"
     ]
    },
    {
     "data": {
      "application/vnd.microsoft.datawrangler.viewer.v0+json": {
       "columns": [
        {
         "name": "index",
         "rawType": "int64",
         "type": "integer"
        },
        {
         "name": "0",
         "rawType": "object",
         "type": "string"
        },
        {
         "name": "1",
         "rawType": "object",
         "type": "unknown"
        },
        {
         "name": "2",
         "rawType": "object",
         "type": "unknown"
        },
        {
         "name": "3",
         "rawType": "object",
         "type": "unknown"
        },
        {
         "name": "4",
         "rawType": "object",
         "type": "unknown"
        },
        {
         "name": "5",
         "rawType": "float64",
         "type": "float"
        }
       ],
       "ref": "27bc38af-04d8-40b0-a556-a60408613fce",
       "rows": [
        [
         "0",
         "Informasi Rekening - Mutasi Rekening",
         " ",
         " ",
         " ",
         " ",
         null
        ],
        [
         "1",
         "No. rekening : 2180882025",
         null,
         null,
         null,
         null,
         null
        ],
        [
         "2",
         "Nama : MG BALI LAIN2",
         null,
         null,
         null,
         null,
         null
        ],
        [
         "3",
         "Periode : 15/05/2025 - 31/05/2025",
         null,
         null,
         null,
         null,
         null
        ],
        [
         "4",
         "Kode Mata Uang : Rp",
         null,
         null,
         null,
         null,
         null
        ],
        [
         "5",
         "Tanggal Transaksi",
         "Keterangan",
         "Cabang",
         "Jumlah",
         "Saldo",
         null
        ],
        [
         "6",
         "16/05/2025",
         "TRSF E-BANKING CR 1605/FTSCY/WS95051 100000.00  200001012_18008939 376423628489549141  AIRPAY INTERNATION ",
         "0000",
         "100,000.00 CR",
         "8,655,472.05",
         null
        ],
        [
         "7",
         "Saldo Awal : 8,555,472.05",
         null,
         null,
         null,
         null,
         null
        ],
        [
         "8",
         "Mutasi Debet : 0.00",
         "0",
         null,
         null,
         null,
         null
        ],
        [
         "9",
         "Mutasi Kredit : 100,000.00",
         "1",
         null,
         null,
         null,
         null
        ],
        [
         "10",
         "Saldo Akhir : 8,655,472.05",
         null,
         null,
         null,
         null,
         null
        ],
        [
         "11",
         "No. rekening : 2186666418",
         null,
         null,
         null,
         null,
         null
        ],
        [
         "12",
         "Nama : MG BALI PETTY CASH",
         null,
         null,
         null,
         null,
         null
        ],
        [
         "13",
         "Periode : 15/05/2025 - 31/05/2025",
         null,
         null,
         null,
         null,
         null
        ],
        [
         "14",
         "Kode Mata Uang : Rp",
         null,
         null,
         null,
         null,
         null
        ],
        [
         "15",
         "Tanggal Transaksi",
         "Keterangan",
         "Cabang",
         "Jumlah",
         "Saldo",
         null
        ],
        [
         "16",
         "15/05/2025",
         "TRSF E-BANKING CR 1505/FTSCY/WS95051 2000000.00  PC BALI PRIMA METRO AUTO M  ",
         "0000",
         "2,000,000.00 CR",
         "2,000,800.00",
         null
        ],
        [
         "17",
         "15/05/2025",
         "TRSF E-BANKING CR 1505/FTSCY/WS95051 2972900.00  PC BALI PRIMA METRO AUTO M  ",
         "0000",
         "2,972,900.00 CR",
         "4,973,700.00",
         null
        ],
        [
         "18",
         "16/05/2025",
         "TARIKAN ATM 16/05 6019006000724214   ",
         "0000",
         "2,500,000.00 DB",
         "2,473,700.00",
         null
        ],
        [
         "19",
         "16/05/2025",
         "TARIKAN ATM 16/05 6019006000724214   ",
         "0000",
         "2,450,000.00 DB",
         "23,700.00",
         null
        ],
        [
         "20",
         "22/05/2025",
         "TRSF E-BANKING CR 2205/FTSCY/WS95051 8100000.00  PC BALI AKT MKT MEI 25  PRIMA METRO AUTO M ",
         "0000",
         "8,100,000.00 CR",
         "8,123,700.00",
         null
        ],
        [
         "21",
         "22/05/2025",
         "TRSF E-BANKING CR 2205/FTSCY/WS95051 3509500.00  PC BALI OPRS PRIMA METRO AUTO M  ",
         "0000",
         "3,509,500.00 CR",
         "11,633,200.00",
         null
        ],
        [
         "22",
         "23/05/2025",
         "TARIKAN ATM 23/05 6019006000724214   ",
         "0000",
         "2,500,000.00 DB",
         "9,133,200.00",
         null
        ],
        [
         "23",
         "23/05/2025",
         "TARIKAN ATM 23/05 6019006000724214   ",
         "0000",
         "2,500,000.00 DB",
         "6,633,200.00",
         null
        ],
        [
         "24",
         "23/05/2025",
         "TARIKAN ATM 23/05 6019006000724214   ",
         "0000",
         "2,500,000.00 DB",
         "4,133,200.00",
         null
        ],
        [
         "25",
         "23/05/2025",
         "TARIKAN ATM 23/05 6019006000724214   ",
         "0000",
         "500,000.00 DB",
         "3,633,200.00",
         null
        ],
        [
         "26",
         "26/05/2025",
         "TARIKAN ATM 26/05 6019006000724214   ",
         "0000",
         "2,500,000.00 DB",
         "1,133,200.00",
         null
        ],
        [
         "27",
         "26/05/2025",
         "TARIKAN ATM 26/05 6019006000724214   ",
         "0000",
         "1,100,000.00 DB",
         "33,200.00",
         null
        ],
        [
         "28",
         "Saldo Awal : 800.00",
         null,
         null,
         null,
         null,
         null
        ],
        [
         "29",
         "Mutasi Debet : 16,550,000.00",
         "8",
         null,
         null,
         null,
         null
        ],
        [
         "30",
         "Mutasi Kredit : 16,582,400.00",
         "4",
         null,
         null,
         null,
         null
        ],
        [
         "31",
         "Saldo Akhir : 33,200.00",
         null,
         null,
         null,
         null,
         null
        ],
        [
         "32",
         "No. rekening : 2180992025",
         null,
         null,
         null,
         null,
         null
        ],
        [
         "33",
         "Nama : MG BALI POOLING",
         null,
         null,
         null,
         null,
         null
        ],
        [
         "34",
         "Periode : 15/05/2025 - 31/05/2025",
         null,
         null,
         null,
         null,
         null
        ],
        [
         "35",
         "Kode Mata Uang : Rp",
         null,
         null,
         null,
         null,
         null
        ],
        [
         "36",
         "Tanggal Transaksi",
         "Keterangan",
         "Cabang",
         "Jumlah",
         "Saldo",
         null
        ],
        [
         "37",
         "15/05/2025",
         "KR OTOMATIS TANGGAL :14/05 MID : 885002810268  PRIMA MG BALI QR :    1046730.00  DDR:       7327.11 ",
         "0998",
         "1,039,402.89 CR",
         "2,039,403.63",
         null
        ],
        [
         "38",
         "15/05/2025",
         "BI-FAST CR TRANSFER   DR 002 I GEDE PUTRA YASA    ",
         "0000",
         "5,000,000.00 CR",
         "7,039,403.63",
         null
        ],
        [
         "39",
         "24/05/2025",
         "TRSF E-BANKING CR 2405/FTSCY/WS95271 5000000.00  FENDY  ",
         "0000",
         "5,000,000.00 CR",
         "12,039,403.63",
         null
        ],
        [
         "40",
         "25/05/2025",
         "TRSF E-BANKING CR 2505/FTSCY/WS95271 3000000.00  Booking fee MG4 EV KADEK EKA KRESNADA  ",
         "0000",
         "3,000,000.00 CR",
         "15,039,403.63",
         null
        ],
        [
         "41",
         "25/05/2025",
         "TRSF E-BANKING CR 2505/FTSCY/WS95031 5000000.00  TandaJadi Mobil MG 4 EV2024 Blue  NANCY CORNELIA IND ",
         "0000",
         "5,000,000.00 CR",
         "20,039,403.63",
         null
        ],
        [
         "42",
         "28/05/2025",
         "TRSF E-BANKING CR 2805/FTSCY/WS95031 10000000.00  booking fee mg4ev ignite ex ktt  IWAN TRIYONO ",
         "0000",
         "10,000,000.00 CR",
         "30,039,403.63",
         null
        ],
        [
         "43",
         "28/05/2025",
         "TRSF E-BANKING CR 2805/FTSCY/WS95031 3000000.00  tanda jafi MG4ev 2 024  MOCH SUBHAN FAJRI ",
         "0000",
         "3,000,000.00 CR",
         "33,039,403.63",
         null
        ],
        [
         "44",
         "28/05/2025",
         "TRSF E-BANKING CR 2805/FTSCY/WS95031 10000000.00  AGUNG AYU KADE ANT  ",
         "0000",
         "10,000,000.00 CR",
         "43,039,403.63",
         null
        ],
        [
         "45",
         "30/05/2025",
         "TRSF E-BANKING CR 3005/FTSCY/WS95031 10000000.00  TDP Part One MG 4 EV 2024 Blue  NANCY CORNELIA IND ",
         "0000",
         "10,000,000.00 CR",
         "53,039,403.63",
         null
        ],
        [
         "46",
         "30/05/2025",
         "TRSF E-BANKING CR 3005/FTSCY/WS95031 5000000.00  NI NYOMAN ANTINI  ",
         "0000",
         "5,000,000.00 CR",
         "58,039,403.63",
         null
        ],
        [
         "47",
         "Saldo Awal : 1,000,000.74",
         null,
         null,
         null,
         null,
         null
        ],
        [
         "48",
         "Mutasi Debet : 0.00",
         "0",
         null,
         null,
         null,
         null
        ],
        [
         "49",
         "Mutasi Kredit : 57,039,402.89",
         "10",
         null,
         null,
         null,
         null
        ]
       ],
       "shape": {
        "columns": 6,
        "rows": 88
       }
      },
      "text/html": [
       "<div>\n",
       "<style scoped>\n",
       "    .dataframe tbody tr th:only-of-type {\n",
       "        vertical-align: middle;\n",
       "    }\n",
       "\n",
       "    .dataframe tbody tr th {\n",
       "        vertical-align: top;\n",
       "    }\n",
       "\n",
       "    .dataframe thead th {\n",
       "        text-align: right;\n",
       "    }\n",
       "</style>\n",
       "<table border=\"1\" class=\"dataframe\">\n",
       "  <thead>\n",
       "    <tr style=\"text-align: right;\">\n",
       "      <th></th>\n",
       "      <th>0</th>\n",
       "      <th>1</th>\n",
       "      <th>2</th>\n",
       "      <th>3</th>\n",
       "      <th>4</th>\n",
       "      <th>5</th>\n",
       "    </tr>\n",
       "  </thead>\n",
       "  <tbody>\n",
       "    <tr>\n",
       "      <th>0</th>\n",
       "      <td>Informasi Rekening - Mutasi Rekening</td>\n",
       "      <td></td>\n",
       "      <td></td>\n",
       "      <td></td>\n",
       "      <td></td>\n",
       "      <td>NaN</td>\n",
       "    </tr>\n",
       "    <tr>\n",
       "      <th>1</th>\n",
       "      <td>No. rekening : 2180882025</td>\n",
       "      <td>NaN</td>\n",
       "      <td>NaN</td>\n",
       "      <td>NaN</td>\n",
       "      <td>NaN</td>\n",
       "      <td>NaN</td>\n",
       "    </tr>\n",
       "    <tr>\n",
       "      <th>2</th>\n",
       "      <td>Nama : MG BALI LAIN2</td>\n",
       "      <td>NaN</td>\n",
       "      <td>NaN</td>\n",
       "      <td>NaN</td>\n",
       "      <td>NaN</td>\n",
       "      <td>NaN</td>\n",
       "    </tr>\n",
       "    <tr>\n",
       "      <th>3</th>\n",
       "      <td>Periode : 15/05/2025 - 31/05/2025</td>\n",
       "      <td>NaN</td>\n",
       "      <td>NaN</td>\n",
       "      <td>NaN</td>\n",
       "      <td>NaN</td>\n",
       "      <td>NaN</td>\n",
       "    </tr>\n",
       "    <tr>\n",
       "      <th>4</th>\n",
       "      <td>Kode Mata Uang : Rp</td>\n",
       "      <td>NaN</td>\n",
       "      <td>NaN</td>\n",
       "      <td>NaN</td>\n",
       "      <td>NaN</td>\n",
       "      <td>NaN</td>\n",
       "    </tr>\n",
       "    <tr>\n",
       "      <th>...</th>\n",
       "      <td>...</td>\n",
       "      <td>...</td>\n",
       "      <td>...</td>\n",
       "      <td>...</td>\n",
       "      <td>...</td>\n",
       "      <td>...</td>\n",
       "    </tr>\n",
       "    <tr>\n",
       "      <th>83</th>\n",
       "      <td>30/05/2025</td>\n",
       "      <td>TARIKAN ATM 30/05 6019006000724198</td>\n",
       "      <td>0000</td>\n",
       "      <td>1,900,000.00 DB</td>\n",
       "      <td>53,392.00</td>\n",
       "      <td>NaN</td>\n",
       "    </tr>\n",
       "    <tr>\n",
       "      <th>84</th>\n",
       "      <td>Saldo Awal : 4,092.00</td>\n",
       "      <td>NaN</td>\n",
       "      <td>NaN</td>\n",
       "      <td>NaN</td>\n",
       "      <td>NaN</td>\n",
       "      <td>NaN</td>\n",
       "    </tr>\n",
       "    <tr>\n",
       "      <th>85</th>\n",
       "      <td>Mutasi Debet : 13,500,000.00</td>\n",
       "      <td>7</td>\n",
       "      <td>NaN</td>\n",
       "      <td>NaN</td>\n",
       "      <td>NaN</td>\n",
       "      <td>NaN</td>\n",
       "    </tr>\n",
       "    <tr>\n",
       "      <th>86</th>\n",
       "      <td>Mutasi Kredit : 13,549,300.00</td>\n",
       "      <td>4</td>\n",
       "      <td>NaN</td>\n",
       "      <td>NaN</td>\n",
       "      <td>NaN</td>\n",
       "      <td>NaN</td>\n",
       "    </tr>\n",
       "    <tr>\n",
       "      <th>87</th>\n",
       "      <td>Saldo Akhir : 53,392.00</td>\n",
       "      <td>NaN</td>\n",
       "      <td>NaN</td>\n",
       "      <td>NaN</td>\n",
       "      <td>NaN</td>\n",
       "      <td>NaN</td>\n",
       "    </tr>\n",
       "  </tbody>\n",
       "</table>\n",
       "<p>88 rows × 6 columns</p>\n",
       "</div>"
      ],
      "text/plain": [
       "                                       0  \\\n",
       "0   Informasi Rekening - Mutasi Rekening   \n",
       "1              No. rekening : 2180882025   \n",
       "2                   Nama : MG BALI LAIN2   \n",
       "3      Periode : 15/05/2025 - 31/05/2025   \n",
       "4                    Kode Mata Uang : Rp   \n",
       "..                                   ...   \n",
       "83                            30/05/2025   \n",
       "84                 Saldo Awal : 4,092.00   \n",
       "85          Mutasi Debet : 13,500,000.00   \n",
       "86         Mutasi Kredit : 13,549,300.00   \n",
       "87               Saldo Akhir : 53,392.00   \n",
       "\n",
       "                                        1     2                3          4  \\\n",
       "0                                                                             \n",
       "1                                     NaN   NaN              NaN        NaN   \n",
       "2                                     NaN   NaN              NaN        NaN   \n",
       "3                                     NaN   NaN              NaN        NaN   \n",
       "4                                     NaN   NaN              NaN        NaN   \n",
       "..                                    ...   ...              ...        ...   \n",
       "83  TARIKAN ATM 30/05 6019006000724198     0000  1,900,000.00 DB  53,392.00   \n",
       "84                                    NaN   NaN              NaN        NaN   \n",
       "85                                      7   NaN              NaN        NaN   \n",
       "86                                      4   NaN              NaN        NaN   \n",
       "87                                    NaN   NaN              NaN        NaN   \n",
       "\n",
       "     5  \n",
       "0  NaN  \n",
       "1  NaN  \n",
       "2  NaN  \n",
       "3  NaN  \n",
       "4  NaN  \n",
       "..  ..  \n",
       "83 NaN  \n",
       "84 NaN  \n",
       "85 NaN  \n",
       "86 NaN  \n",
       "87 NaN  \n",
       "\n",
       "[88 rows x 6 columns]"
      ]
     },
     "execution_count": 4,
     "metadata": {},
     "output_type": "execute_result"
    }
   ],
   "source": [
    "df = pd.read_csv(\"D:\\Metro-Loan-App\\CorpAcctTrxn202553101438290.csv\", header=None)  # no header, read as raw data\n",
    "df"
   ]
  },
  {
   "cell_type": "code",
   "execution_count": 5,
   "id": "99a69858",
   "metadata": {},
   "outputs": [
    {
     "name": "stderr",
     "output_type": "stream",
     "text": [
      "C:\\Users\\bmpri\\AppData\\Local\\Temp\\ipykernel_12300\\3920837447.py:6: SettingWithCopyWarning: \n",
      "A value is trying to be set on a copy of a slice from a DataFrame.\n",
      "Try using .loc[row_indexer,col_indexer] = value instead\n",
      "\n",
      "See the caveats in the documentation: https://pandas.pydata.org/pandas-docs/stable/user_guide/indexing.html#returning-a-view-versus-a-copy\n",
      "  df['Jumlah'] = df['Jumlah'].astype(str)\n",
      "C:\\Users\\bmpri\\AppData\\Local\\Temp\\ipykernel_12300\\3920837447.py:9: SettingWithCopyWarning: \n",
      "A value is trying to be set on a copy of a slice from a DataFrame.\n",
      "Try using .loc[row_indexer,col_indexer] = value instead\n",
      "\n",
      "See the caveats in the documentation: https://pandas.pydata.org/pandas-docs/stable/user_guide/indexing.html#returning-a-view-versus-a-copy\n",
      "  df['Nominal'] = df['Jumlah'].str.replace(',', '').str.extract(r'([\\d.]+)').astype(float)\n"
     ]
    }
   ],
   "source": [
    "\n",
    "\n",
    "# Keep only necessary columns: col 0 (Tanggal), col 1 (Keterangan), col 3 (Jumlah), col 4 (Saldo)\n",
    "df = df[[0, 1, 3, 4]]\n",
    "df.columns = ['Tanggal Transaksi', 'Keterangan', 'Jumlah', 'Saldo']\n",
    "\n",
    "# Convert 'Jumlah' to string\n",
    "df['Jumlah'] = df['Jumlah'].astype(str)\n",
    "\n",
    "# Extract numeric value and transaction type\n",
    "df['Nominal'] = df['Jumlah'].str.replace(',', '').str.extract(r'([\\d.]+)').astype(float)\n",
    "df['Jenis Transaksi'] = df['Jumlah'].str[-2:]\n",
    "\n",
    "# Create Debit and Kredit columns based on 'Jenis Transaksi'\n",
    "df['Debit'] = np.where(df['Jenis Transaksi'] == 'DB', df['Nominal'], 0)\n",
    "df['Kredit'] = np.where(df['Jenis Transaksi'] == 'CR', df['Nominal'], 0)\n",
    "\n",
    "# Drop 'Jumlah', 'Nominal', 'Jenis Transaksi'\n",
    "df = df.drop(columns=['Jumlah', 'Nominal', 'Jenis Transaksi'])\n",
    "\n",
    "# Final column order\n",
    "new_columns_order = ['Tanggal Transaksi', 'Keterangan', 'Debit', 'Kredit', 'Saldo']\n",
    "df = df.reindex(columns=new_columns_order)"
   ]
  },
  {
   "cell_type": "code",
   "execution_count": 6,
   "id": "1fc189d9",
   "metadata": {},
   "outputs": [
    {
     "data": {
      "application/vnd.microsoft.datawrangler.viewer.v0+json": {
       "columns": [
        {
         "name": "index",
         "rawType": "int64",
         "type": "integer"
        },
        {
         "name": "Tanggal Transaksi",
         "rawType": "object",
         "type": "string"
        },
        {
         "name": "Keterangan",
         "rawType": "object",
         "type": "unknown"
        },
        {
         "name": "Debit",
         "rawType": "float64",
         "type": "float"
        },
        {
         "name": "Kredit",
         "rawType": "float64",
         "type": "float"
        },
        {
         "name": "Saldo",
         "rawType": "object",
         "type": "unknown"
        }
       ],
       "ref": "6c1a11be-bbc2-449d-9ef3-199f480bb570",
       "rows": [
        [
         "0",
         "Informasi Rekening - Mutasi Rekening",
         " ",
         "0.0",
         "0.0",
         " "
        ],
        [
         "1",
         "No. rekening : 2180882025",
         null,
         "0.0",
         "0.0",
         null
        ],
        [
         "2",
         "Nama : MG BALI LAIN2",
         null,
         "0.0",
         "0.0",
         null
        ],
        [
         "3",
         "Periode : 15/05/2025 - 31/05/2025",
         null,
         "0.0",
         "0.0",
         null
        ],
        [
         "4",
         "Kode Mata Uang : Rp",
         null,
         "0.0",
         "0.0",
         null
        ],
        [
         "5",
         "Tanggal Transaksi",
         "Keterangan",
         "0.0",
         "0.0",
         "Saldo"
        ],
        [
         "6",
         "16/05/2025",
         "TRSF E-BANKING CR 1605/FTSCY/WS95051 100000.00  200001012_18008939 376423628489549141  AIRPAY INTERNATION ",
         "0.0",
         "100000.0",
         "8,655,472.05"
        ],
        [
         "7",
         "Saldo Awal : 8,555,472.05",
         null,
         "0.0",
         "0.0",
         null
        ],
        [
         "8",
         "Mutasi Debet : 0.00",
         "0",
         "0.0",
         "0.0",
         null
        ],
        [
         "9",
         "Mutasi Kredit : 100,000.00",
         "1",
         "0.0",
         "0.0",
         null
        ],
        [
         "10",
         "Saldo Akhir : 8,655,472.05",
         null,
         "0.0",
         "0.0",
         null
        ],
        [
         "11",
         "No. rekening : 2186666418",
         null,
         "0.0",
         "0.0",
         null
        ],
        [
         "12",
         "Nama : MG BALI PETTY CASH",
         null,
         "0.0",
         "0.0",
         null
        ],
        [
         "13",
         "Periode : 15/05/2025 - 31/05/2025",
         null,
         "0.0",
         "0.0",
         null
        ],
        [
         "14",
         "Kode Mata Uang : Rp",
         null,
         "0.0",
         "0.0",
         null
        ],
        [
         "15",
         "Tanggal Transaksi",
         "Keterangan",
         "0.0",
         "0.0",
         "Saldo"
        ],
        [
         "16",
         "15/05/2025",
         "TRSF E-BANKING CR 1505/FTSCY/WS95051 2000000.00  PC BALI PRIMA METRO AUTO M  ",
         "0.0",
         "2000000.0",
         "2,000,800.00"
        ],
        [
         "17",
         "15/05/2025",
         "TRSF E-BANKING CR 1505/FTSCY/WS95051 2972900.00  PC BALI PRIMA METRO AUTO M  ",
         "0.0",
         "2972900.0",
         "4,973,700.00"
        ],
        [
         "18",
         "16/05/2025",
         "TARIKAN ATM 16/05 6019006000724214   ",
         "2500000.0",
         "0.0",
         "2,473,700.00"
        ],
        [
         "19",
         "16/05/2025",
         "TARIKAN ATM 16/05 6019006000724214   ",
         "2450000.0",
         "0.0",
         "23,700.00"
        ],
        [
         "20",
         "22/05/2025",
         "TRSF E-BANKING CR 2205/FTSCY/WS95051 8100000.00  PC BALI AKT MKT MEI 25  PRIMA METRO AUTO M ",
         "0.0",
         "8100000.0",
         "8,123,700.00"
        ],
        [
         "21",
         "22/05/2025",
         "TRSF E-BANKING CR 2205/FTSCY/WS95051 3509500.00  PC BALI OPRS PRIMA METRO AUTO M  ",
         "0.0",
         "3509500.0",
         "11,633,200.00"
        ],
        [
         "22",
         "23/05/2025",
         "TARIKAN ATM 23/05 6019006000724214   ",
         "2500000.0",
         "0.0",
         "9,133,200.00"
        ],
        [
         "23",
         "23/05/2025",
         "TARIKAN ATM 23/05 6019006000724214   ",
         "2500000.0",
         "0.0",
         "6,633,200.00"
        ],
        [
         "24",
         "23/05/2025",
         "TARIKAN ATM 23/05 6019006000724214   ",
         "2500000.0",
         "0.0",
         "4,133,200.00"
        ],
        [
         "25",
         "23/05/2025",
         "TARIKAN ATM 23/05 6019006000724214   ",
         "500000.0",
         "0.0",
         "3,633,200.00"
        ],
        [
         "26",
         "26/05/2025",
         "TARIKAN ATM 26/05 6019006000724214   ",
         "2500000.0",
         "0.0",
         "1,133,200.00"
        ],
        [
         "27",
         "26/05/2025",
         "TARIKAN ATM 26/05 6019006000724214   ",
         "1100000.0",
         "0.0",
         "33,200.00"
        ],
        [
         "28",
         "Saldo Awal : 800.00",
         null,
         "0.0",
         "0.0",
         null
        ],
        [
         "29",
         "Mutasi Debet : 16,550,000.00",
         "8",
         "0.0",
         "0.0",
         null
        ],
        [
         "30",
         "Mutasi Kredit : 16,582,400.00",
         "4",
         "0.0",
         "0.0",
         null
        ],
        [
         "31",
         "Saldo Akhir : 33,200.00",
         null,
         "0.0",
         "0.0",
         null
        ],
        [
         "32",
         "No. rekening : 2180992025",
         null,
         "0.0",
         "0.0",
         null
        ],
        [
         "33",
         "Nama : MG BALI POOLING",
         null,
         "0.0",
         "0.0",
         null
        ],
        [
         "34",
         "Periode : 15/05/2025 - 31/05/2025",
         null,
         "0.0",
         "0.0",
         null
        ],
        [
         "35",
         "Kode Mata Uang : Rp",
         null,
         "0.0",
         "0.0",
         null
        ],
        [
         "36",
         "Tanggal Transaksi",
         "Keterangan",
         "0.0",
         "0.0",
         "Saldo"
        ],
        [
         "37",
         "15/05/2025",
         "KR OTOMATIS TANGGAL :14/05 MID : 885002810268  PRIMA MG BALI QR :    1046730.00  DDR:       7327.11 ",
         "0.0",
         "1039402.89",
         "2,039,403.63"
        ],
        [
         "38",
         "15/05/2025",
         "BI-FAST CR TRANSFER   DR 002 I GEDE PUTRA YASA    ",
         "0.0",
         "5000000.0",
         "7,039,403.63"
        ],
        [
         "39",
         "24/05/2025",
         "TRSF E-BANKING CR 2405/FTSCY/WS95271 5000000.00  FENDY  ",
         "0.0",
         "5000000.0",
         "12,039,403.63"
        ],
        [
         "40",
         "25/05/2025",
         "TRSF E-BANKING CR 2505/FTSCY/WS95271 3000000.00  Booking fee MG4 EV KADEK EKA KRESNADA  ",
         "0.0",
         "3000000.0",
         "15,039,403.63"
        ],
        [
         "41",
         "25/05/2025",
         "TRSF E-BANKING CR 2505/FTSCY/WS95031 5000000.00  TandaJadi Mobil MG 4 EV2024 Blue  NANCY CORNELIA IND ",
         "0.0",
         "5000000.0",
         "20,039,403.63"
        ],
        [
         "42",
         "28/05/2025",
         "TRSF E-BANKING CR 2805/FTSCY/WS95031 10000000.00  booking fee mg4ev ignite ex ktt  IWAN TRIYONO ",
         "0.0",
         "10000000.0",
         "30,039,403.63"
        ],
        [
         "43",
         "28/05/2025",
         "TRSF E-BANKING CR 2805/FTSCY/WS95031 3000000.00  tanda jafi MG4ev 2 024  MOCH SUBHAN FAJRI ",
         "0.0",
         "3000000.0",
         "33,039,403.63"
        ],
        [
         "44",
         "28/05/2025",
         "TRSF E-BANKING CR 2805/FTSCY/WS95031 10000000.00  AGUNG AYU KADE ANT  ",
         "0.0",
         "10000000.0",
         "43,039,403.63"
        ],
        [
         "45",
         "30/05/2025",
         "TRSF E-BANKING CR 3005/FTSCY/WS95031 10000000.00  TDP Part One MG 4 EV 2024 Blue  NANCY CORNELIA IND ",
         "0.0",
         "10000000.0",
         "53,039,403.63"
        ],
        [
         "46",
         "30/05/2025",
         "TRSF E-BANKING CR 3005/FTSCY/WS95031 5000000.00  NI NYOMAN ANTINI  ",
         "0.0",
         "5000000.0",
         "58,039,403.63"
        ],
        [
         "47",
         "Saldo Awal : 1,000,000.74",
         null,
         "0.0",
         "0.0",
         null
        ],
        [
         "48",
         "Mutasi Debet : 0.00",
         "0",
         "0.0",
         "0.0",
         null
        ],
        [
         "49",
         "Mutasi Kredit : 57,039,402.89",
         "10",
         "0.0",
         "0.0",
         null
        ]
       ],
       "shape": {
        "columns": 5,
        "rows": 88
       }
      },
      "text/html": [
       "<div>\n",
       "<style scoped>\n",
       "    .dataframe tbody tr th:only-of-type {\n",
       "        vertical-align: middle;\n",
       "    }\n",
       "\n",
       "    .dataframe tbody tr th {\n",
       "        vertical-align: top;\n",
       "    }\n",
       "\n",
       "    .dataframe thead th {\n",
       "        text-align: right;\n",
       "    }\n",
       "</style>\n",
       "<table border=\"1\" class=\"dataframe\">\n",
       "  <thead>\n",
       "    <tr style=\"text-align: right;\">\n",
       "      <th></th>\n",
       "      <th>Tanggal Transaksi</th>\n",
       "      <th>Keterangan</th>\n",
       "      <th>Debit</th>\n",
       "      <th>Kredit</th>\n",
       "      <th>Saldo</th>\n",
       "    </tr>\n",
       "  </thead>\n",
       "  <tbody>\n",
       "    <tr>\n",
       "      <th>0</th>\n",
       "      <td>Informasi Rekening - Mutasi Rekening</td>\n",
       "      <td></td>\n",
       "      <td>0.0</td>\n",
       "      <td>0.0</td>\n",
       "      <td></td>\n",
       "    </tr>\n",
       "    <tr>\n",
       "      <th>1</th>\n",
       "      <td>No. rekening : 2180882025</td>\n",
       "      <td>NaN</td>\n",
       "      <td>0.0</td>\n",
       "      <td>0.0</td>\n",
       "      <td>NaN</td>\n",
       "    </tr>\n",
       "    <tr>\n",
       "      <th>2</th>\n",
       "      <td>Nama : MG BALI LAIN2</td>\n",
       "      <td>NaN</td>\n",
       "      <td>0.0</td>\n",
       "      <td>0.0</td>\n",
       "      <td>NaN</td>\n",
       "    </tr>\n",
       "    <tr>\n",
       "      <th>3</th>\n",
       "      <td>Periode : 15/05/2025 - 31/05/2025</td>\n",
       "      <td>NaN</td>\n",
       "      <td>0.0</td>\n",
       "      <td>0.0</td>\n",
       "      <td>NaN</td>\n",
       "    </tr>\n",
       "    <tr>\n",
       "      <th>4</th>\n",
       "      <td>Kode Mata Uang : Rp</td>\n",
       "      <td>NaN</td>\n",
       "      <td>0.0</td>\n",
       "      <td>0.0</td>\n",
       "      <td>NaN</td>\n",
       "    </tr>\n",
       "    <tr>\n",
       "      <th>...</th>\n",
       "      <td>...</td>\n",
       "      <td>...</td>\n",
       "      <td>...</td>\n",
       "      <td>...</td>\n",
       "      <td>...</td>\n",
       "    </tr>\n",
       "    <tr>\n",
       "      <th>83</th>\n",
       "      <td>30/05/2025</td>\n",
       "      <td>TARIKAN ATM 30/05 6019006000724198</td>\n",
       "      <td>1900000.0</td>\n",
       "      <td>0.0</td>\n",
       "      <td>53,392.00</td>\n",
       "    </tr>\n",
       "    <tr>\n",
       "      <th>84</th>\n",
       "      <td>Saldo Awal : 4,092.00</td>\n",
       "      <td>NaN</td>\n",
       "      <td>0.0</td>\n",
       "      <td>0.0</td>\n",
       "      <td>NaN</td>\n",
       "    </tr>\n",
       "    <tr>\n",
       "      <th>85</th>\n",
       "      <td>Mutasi Debet : 13,500,000.00</td>\n",
       "      <td>7</td>\n",
       "      <td>0.0</td>\n",
       "      <td>0.0</td>\n",
       "      <td>NaN</td>\n",
       "    </tr>\n",
       "    <tr>\n",
       "      <th>86</th>\n",
       "      <td>Mutasi Kredit : 13,549,300.00</td>\n",
       "      <td>4</td>\n",
       "      <td>0.0</td>\n",
       "      <td>0.0</td>\n",
       "      <td>NaN</td>\n",
       "    </tr>\n",
       "    <tr>\n",
       "      <th>87</th>\n",
       "      <td>Saldo Akhir : 53,392.00</td>\n",
       "      <td>NaN</td>\n",
       "      <td>0.0</td>\n",
       "      <td>0.0</td>\n",
       "      <td>NaN</td>\n",
       "    </tr>\n",
       "  </tbody>\n",
       "</table>\n",
       "<p>88 rows × 5 columns</p>\n",
       "</div>"
      ],
      "text/plain": [
       "                       Tanggal Transaksi  \\\n",
       "0   Informasi Rekening - Mutasi Rekening   \n",
       "1              No. rekening : 2180882025   \n",
       "2                   Nama : MG BALI LAIN2   \n",
       "3      Periode : 15/05/2025 - 31/05/2025   \n",
       "4                    Kode Mata Uang : Rp   \n",
       "..                                   ...   \n",
       "83                            30/05/2025   \n",
       "84                 Saldo Awal : 4,092.00   \n",
       "85          Mutasi Debet : 13,500,000.00   \n",
       "86         Mutasi Kredit : 13,549,300.00   \n",
       "87               Saldo Akhir : 53,392.00   \n",
       "\n",
       "                               Keterangan      Debit  Kredit      Saldo  \n",
       "0                                                0.0     0.0             \n",
       "1                                     NaN        0.0     0.0        NaN  \n",
       "2                                     NaN        0.0     0.0        NaN  \n",
       "3                                     NaN        0.0     0.0        NaN  \n",
       "4                                     NaN        0.0     0.0        NaN  \n",
       "..                                    ...        ...     ...        ...  \n",
       "83  TARIKAN ATM 30/05 6019006000724198     1900000.0     0.0  53,392.00  \n",
       "84                                    NaN        0.0     0.0        NaN  \n",
       "85                                      7        0.0     0.0        NaN  \n",
       "86                                      4        0.0     0.0        NaN  \n",
       "87                                    NaN        0.0     0.0        NaN  \n",
       "\n",
       "[88 rows x 5 columns]"
      ]
     },
     "execution_count": 6,
     "metadata": {},
     "output_type": "execute_result"
    }
   ],
   "source": [
    "df"
   ]
  }
 ],
 "metadata": {
  "kernelspec": {
   "display_name": "Python 3",
   "language": "python",
   "name": "python3"
  },
  "language_info": {
   "codemirror_mode": {
    "name": "ipython",
    "version": 3
   },
   "file_extension": ".py",
   "mimetype": "text/x-python",
   "name": "python",
   "nbconvert_exporter": "python",
   "pygments_lexer": "ipython3",
   "version": "3.13.1"
  }
 },
 "nbformat": 4,
 "nbformat_minor": 5
}
